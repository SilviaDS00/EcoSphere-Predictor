{
  "nbformat": 4,
  "nbformat_minor": 0,
  "metadata": {
    "colab": {
      "provenance": []
    },
    "kernelspec": {
      "name": "python3",
      "display_name": "Python 3"
    },
    "language_info": {
      "name": "python"
    }
  },
  "cells": [
    {
      "cell_type": "code",
      "execution_count": 28,
      "metadata": {
        "id": "ndUAhRNsB-0G"
      },
      "outputs": [],
      "source": [
        "from bs4 import BeautifulSoup\n",
        "import urllib"
      ]
    },
    {
      "cell_type": "code",
      "source": [
        "URLs = [\n",
        "    'https://www.recetasgratis.net/receta-de-pizza-de-pepperoni-74152.html',\n",
        "    'https://www.recetasgratis.net/receta-de-tacos-rancheros-76180.html',\n",
        "    'https://www.recetasgratis.net/receta-de-churros-mexicanos-75726.html'\n",
        "]\n",
        "\n",
        "# Lista para almacenar el contenido HTML de cada página\n",
        "html_list = []\n",
        "\n",
        "# Iteramos sobre las URLs\n",
        "for url in URLs:\n",
        "    # Sacamos el contenido html de la URL\n",
        "    html = urllib.request.urlopen(url).read()\n",
        "    html_list.append(html)\n",
        "\n",
        "# Convertimos el html\n",
        "soup = [BeautifulSoup(html, 'html.parser') for html in html_list]"
      ],
      "metadata": {
        "id": "Nhfk9yASCUeE"
      },
      "execution_count": 29,
      "outputs": []
    },
    {
      "cell_type": "code",
      "source": [
        "# Filtrar las URLs de las imágenes\n",
        "for imagen in links:\n",
        "    # Obtener el atributo \"src\" de la imagen\n",
        "    ee = imagen.get('src')\n",
        "\n",
        "    # Excluir imágenes demasiado pequeñas (puede que necesites ajustar este valor según tus necesidades)\n",
        "    if imagen.get('height') and int(imagen.get('height')) < 50:\n",
        "        continue\n",
        "\n",
        "    # Excluir imágenes con ciertas clases o atributos específicos\n",
        "    if imagen.get('class') and 'unwanted-class' in imagen.get('class'):\n",
        "        continue\n",
        "\n",
        "    # Excluir imágenes con ciertos atributos específicos\n",
        "    if 'unwanted-attribute' in imagen.attrs:\n",
        "        continue\n",
        "\n",
        "    # Excluir URLs específicas que no deseas incluir\n",
        "    if 'logo/negativo/es.png' in ee or 'img_593728_50_square.jpg' in ee:\n",
        "        continue\n",
        "\n",
        "    # Imprimir la URL de la imagen que pasa todos los filtros\n",
        "    print(ee)\n"
      ],
      "metadata": {
        "colab": {
          "base_uri": "https://localhost:8080/"
        },
        "id": "tBg7_jpXFhOP",
        "outputId": "a8a394db-05a0-4d73-a047-dce233c7d796"
      },
      "execution_count": 30,
      "outputs": [
        {
          "output_type": "stream",
          "name": "stdout",
          "text": [
            "https://cdn0.recetasgratis.net/es/users/9/3/0/img_467039_50_square.jpg\n",
            "https://cdn0.recetasgratis.net/es/posts/2/5/1/pizza_de_pepperoni_74152_600.jpg\n",
            "https://cdn0.recetasgratis.net/es/posts/2/5/1/pizza_de_pepperoni_74152_paso_0_600.jpg\n",
            "https://cdn0.recetasgratis.net/es/posts/2/5/1/pizza_de_pepperoni_74152_paso_1_600.jpg\n",
            "https://cdn0.recetasgratis.net/es/posts/2/5/1/pizza_de_pepperoni_74152_paso_2_600.jpg\n",
            "https://cdn0.recetasgratis.net/es/posts/2/5/1/pizza_de_pepperoni_74152_paso_3_600.jpg\n",
            "https://cdn0.recetasgratis.net/es/posts/2/5/1/pizza_de_pepperoni_74152_paso_4_600.jpg\n",
            "https://cdn0.recetasgratis.net/es/posts/2/5/1/pizza_de_pepperoni_74152_paso_5_600.jpg\n",
            "https://cdn0.recetasgratis.net/es/posts/2/5/1/pizza_de_pepperoni_74152_paso_6_600.jpg\n",
            "https://cdn0.recetasgratis.net/es/posts/2/5/1/pizza_de_pepperoni_74152_paso_7_600.jpg\n",
            "https://cdn0.recetasgratis.net/es/posts/2/5/1/pizza_de_pepperoni_74152_paso_8_600.jpg\n",
            "https://cdn0.recetasgratis.net/es/posts/7/1/4/pizza_de_salami_64417_300_150.jpg\n",
            "https://cdn0.recetasgratis.net/es/posts/4/6/7/pizza_con_harina_integral_para_diabeticos_57764_300_150.jpg\n",
            "https://cdn0.recetasgratis.net/es/posts/5/8/8/masa_de_pizza_esponjosa_y_crujiente_61885_300_150.jpg\n",
            "https://cdn0.recetasgratis.net/es/posts/0/8/1/pizza_a_caballo_77180_300_150.jpg\n",
            "https://cdn0.recetasgratis.net/es/posts/6/7/1/faina_pizza_77176_300_150.jpg\n",
            "https://cdn0.recetasgratis.net/es/posts/4/6/7/recetas_de_pizzas_75764_300_150.jpg\n",
            "https://cdn0.recetasgratis.net/es/posts/5/0/5/pizzas_de_halloween_75505_300_150.jpg\n",
            "https://cdn0.recetasgratis.net/es/posts/6/1/1/pizza_de_calabaza_75116_300_150.jpg\n",
            "https://cdn0.recetasgratis.net/es/posts/9/2/4/tarta_de_pizza_75429_300_150.jpg\n",
            "https://cdn0.recetasgratis.net/es/posts/6/9/7/pizza_de_patata_74796_300_150.jpg\n",
            "https://cdn0.recetasgratis.net/es/posts/9/9/7/pizza_de_avena_74799_300_150.jpg\n",
            "https://cdn0.recetasgratis.net/es/posts/8/5/4/pizza_de_camarones_74458_300_150.jpg\n",
            "https://cdn0.recetasgratis.net/es/comments/2/5/1/pizza-de-pepperoni-627408_90.jpg\n",
            "\n",
            "\n",
            "\n",
            "\n",
            "\n",
            "\n",
            "\n",
            "\n",
            "\n",
            "\n",
            "\n",
            "https://cdn0.recetasgratis.net/es/posts/0/8/1/tacos_rancheros_76180_600.jpg\n",
            "https://cdn0.recetasgratis.net/es/posts/0/8/1/tacos_rancheros_76180_paso_0_600.jpg\n",
            "https://cdn0.recetasgratis.net/es/posts/0/8/1/tacos_rancheros_76180_paso_1_600.jpg\n",
            "https://cdn0.recetasgratis.net/es/posts/0/8/1/tacos_rancheros_76180_paso_2_600.jpg\n",
            "https://cdn0.recetasgratis.net/es/posts/0/8/1/tacos_rancheros_76180_paso_3_600.jpg\n",
            "https://cdn0.recetasgratis.net/es/posts/0/8/1/tacos_rancheros_76180_paso_4_600.jpg\n",
            "https://cdn0.recetasgratis.net/es/posts/0/8/1/tacos_rancheros_76180_paso_5_600.jpg\n",
            "https://cdn0.recetasgratis.net/es/posts/0/8/1/tacos_rancheros_76180_paso_6_600.jpg\n",
            "https://cdn0.recetasgratis.net/es/posts/4/9/9/tacos_de_huevo_76994_300_150.jpg\n",
            "https://cdn0.recetasgratis.net/es/posts/7/1/7/tacos_de_sesos_76717_300_150.jpg\n",
            "https://cdn0.recetasgratis.net/es/posts/5/0/7/tacos_de_milanesa_76705_300_150.jpg\n",
            "https://cdn0.recetasgratis.net/es/posts/2/4/1/guisados_para_tacos_76142_300_150.jpg\n",
            "https://cdn0.recetasgratis.net/es/posts/4/1/4/tacos_de_barbacoa_75414_300_150.jpg\n",
            "https://cdn0.recetasgratis.net/es/posts/5/1/3/tacos_de_huitlacoche_75315_300_150.jpg\n",
            "https://cdn0.recetasgratis.net/es/posts/4/4/0/tacos_de_tuetano_75044_300_150.jpg\n",
            "https://cdn0.recetasgratis.net/es/posts/4/4/3/masa_para_tacos_74344_300_150.jpg\n",
            "https://cdn0.recetasgratis.net/es/posts/8/1/8/tacos_campechanos_73818_300_150.jpg\n",
            "https://cdn0.recetasgratis.net/es/posts/4/2/9/tacos_de_jamaica_72924_300_150.jpg\n",
            "https://cdn0.recetasgratis.net/es/posts/4/5/9/tacos_de_suadero_60954_300_150.jpg\n",
            "https://cdn0.recetasgratis.net/es/posts/8/8/5/tacos_de_arrachera_57588_300_150.jpg\n",
            "\n",
            "\n",
            "\n",
            "\n",
            "\n",
            "\n",
            "\n",
            "\n",
            "https://cdn0.recetasgratis.net/es/posts/6/2/7/churros_mexicanos_75726_600.jpg\n",
            "https://cdn0.recetasgratis.net/es/posts/6/2/7/churros_mexicanos_75726_paso_0_600.jpg\n",
            "https://cdn0.recetasgratis.net/es/posts/6/2/7/churros_mexicanos_75726_paso_1_600.jpg\n",
            "https://cdn0.recetasgratis.net/es/posts/6/2/7/churros_mexicanos_75726_paso_2_600.jpg\n",
            "https://cdn0.recetasgratis.net/es/posts/6/2/7/churros_mexicanos_75726_paso_3_600.jpg\n",
            "https://cdn0.recetasgratis.net/es/posts/6/2/7/churros_mexicanos_75726_paso_4_600.jpg\n",
            "https://cdn0.recetasgratis.net/es/posts/2/0/8/churros_de_oreo_75802_300_150.jpg\n",
            "https://cdn0.recetasgratis.net/es/posts/7/5/7/churros_de_avena_75757_300_150.jpg\n",
            "https://cdn0.recetasgratis.net/es/posts/6/9/3/churros_con_thermomix_30396_300_150.jpg\n",
            "https://cdn0.recetasgratis.net/es/posts/1/7/5/churros_sin_gluten_50571_300_150.jpg\n",
            "https://cdn0.recetasgratis.net/es/posts/8/0/4/churros_con_churrera_24408_300_150.jpg\n",
            "https://cdn0.recetasgratis.net/es/posts/2/9/0/churros_clasicos_92_300_150.jpg\n",
            "https://cdn0.recetasgratis.net/es/posts/8/4/8/churros_caseros_al_horno_75848_300_150.jpg\n",
            "https://cdn0.recetasgratis.net/es/posts/3/8/6/churros_caseros_sin_churrera_73683_300_150.jpg\n",
            "https://cdn0.recetasgratis.net/es/posts/1/6/6/la_original_masa_de_churros_50661_300_150.jpg\n",
            "https://cdn0.recetasgratis.net/es/posts/0/6/6/la_mejor_masa_de_churros_50660_300_150.jpg\n",
            "https://cdn0.recetasgratis.net/es/posts/2/7/5/los_mejores_churros_sin_gluten_50572_300_150.jpg\n",
            "https://cdn0.recetasgratis.net/es/posts/3/0/6/churros_caseros_faciles_22603_300_150.jpg\n",
            "\n",
            "\n",
            "\n",
            "\n",
            "\n",
            "\n"
          ]
        }
      ]
    }
  ]
}