{
  "cells": [
    {
      "cell_type": "markdown",
      "metadata": {
        "id": "TquXKv9MVI6s"
      },
      "source": [
        "# Modelo de clasificación multiclase"
      ]
    },
    {
      "cell_type": "markdown",
      "metadata": {
        "id": "-J_-WXIyVPAH"
      },
      "source": [
        "## Importaciones de paquetes necesarios"
      ]
    },
    {
      "cell_type": "code",
      "execution_count": null,
      "metadata": {
        "colab": {
          "base_uri": "https://localhost:8080/"
        },
        "id": "BT0aHpLpFblq",
        "outputId": "2ca6faf0-1327-44be-9c88-abaa0e00c508"
      },
      "outputs": [
        {
          "name": "stdout",
          "output_type": "stream",
          "text": [
            "2.9.0\n",
            "True\n"
          ]
        }
      ],
      "source": [
        "import os\n",
        "import tarfile\n",
        "import matplotlib.pyplot as plt\n",
        "import numpy as np\n",
        "import pandas as pd\n",
        "import tensorflow as tf\n",
        "from tensorflow.keras.regularizers import l2\n",
        "from tensorflow.keras.applications import ResNet50, InceptionV3, DenseNet121\n",
        "from tensorflow.keras.optimizers import Adam\n",
        "from tensorflow.keras.layers import Dense, Dropout, GlobalAveragePooling2D\n",
        "from tensorflow.keras.models import Model\n",
        "from tensorflow.keras.preprocessing.image import ImageDataGenerator\n",
        "from tensorflow.python.keras.callbacks import EarlyStopping, ModelCheckpoint\n",
        "print(tf.__version__)\n",
        "print(len(tf.config.list_physical_devices('GPU'))>0)"
      ]
    },
    {
      "cell_type": "markdown",
      "metadata": {
        "id": "F4cPaACcFbZw"
      },
      "source": [
        "## Carga de datos\n",
        "\n",
        "Descargamos el conjunto de imágenes que usaremos para entrenar el modelo."
      ]
    },
    {
      "cell_type": "code",
      "execution_count": null,
      "metadata": {
        "id": "fWRMiyslAo58"
      },
      "outputs": [],
      "source": [
        "if \"food-101\" in os.listdir():\n",
        "  print(\"Ya tienes las imágenes de food101\")\n",
        "else:\n",
        "  print(\"Se van a descargar las imágenes...\")\n",
        "  !wget http://data.vision.ee.ethz.ch/cvl/food-101.tar.gz\n",
        "  food_tar = tarfile.open('food-101.tar.gz')\n",
        "  food_tar.extractall('.')\n",
        "  food_tar.close()"
      ]
    },
    {
      "cell_type": "markdown",
      "metadata": {
        "id": "8Dq8KySdVWxe"
      },
      "source": [
        "Guardamos la ruta donde estarán las imágenes en una variable."
      ]
    },
    {
      "cell_type": "code",
      "execution_count": null,
      "metadata": {
        "id": "-2LX0fjfGGbZ"
      },
      "outputs": [],
      "source": [
        "base_dir = 'food-101/images'"
      ]
    },
    {
      "cell_type": "markdown",
      "metadata": {
        "id": "-5l_eUhNVYUp"
      },
      "source": [
        "Guardamos en una lista todos los nombres de las clases de platos de comida que hay."
      ]
    },
    {
      "cell_type": "code",
      "execution_count": null,
      "metadata": {
        "colab": {
          "base_uri": "https://localhost:8080/"
        },
        "id": "k_yuwO6nFgVv",
        "outputId": "792d3af3-bdde-4817-81c3-7f1e0bccfd45"
      },
      "outputs": [
        {
          "name": "stdout",
          "output_type": "stream",
          "text": [
            "['apple_pie', 'baby_back_ribs', 'baklava', 'beef_carpaccio', 'beef_tartare', 'beet_salad', 'beignets', 'bibimbap', 'bread_pudding', 'breakfast_burrito', 'bruschetta', 'caesar_salad', 'cannoli', 'caprese_salad', 'carrot_cake', 'ceviche', 'cheese_plate', 'cheesecake', 'chicken_curry', 'chicken_quesadilla', 'chicken_wings', 'chocolate_cake', 'chocolate_mousse', 'churros', 'clam_chowder', 'club_sandwich', 'crab_cakes', 'creme_brulee', 'croque_madame', 'cup_cakes', 'deviled_eggs', 'donuts', 'dumplings', 'edamame', 'eggs_benedict', 'escargots', 'falafel', 'filet_mignon', 'fish_and_chips', 'foie_gras', 'french_fries', 'french_onion_soup', 'french_toast', 'fried_calamari', 'fried_rice', 'frozen_yogurt', 'garlic_bread', 'gnocchi', 'greek_salad', 'grilled_cheese_sandwich', 'grilled_salmon', 'guacamole', 'gyoza', 'hamburger', 'hot_and_sour_soup', 'hot_dog', 'huevos_rancheros', 'hummus', 'ice_cream', 'lasagna', 'lobster_bisque', 'lobster_roll_sandwich', 'macaroni_and_cheese', 'macarons', 'miso_soup', 'mussels', 'nachos', 'omelette', 'onion_rings', 'oysters', 'pad_thai', 'paella', 'pancakes', 'panna_cotta', 'peking_duck', 'pho', 'pizza', 'pork_chop', 'poutine', 'prime_rib', 'pulled_pork_sandwich', 'ramen', 'ravioli', 'red_velvet_cake', 'risotto', 'samosa', 'sashimi', 'scallops', 'seaweed_salad', 'shrimp_and_grits', 'spaghetti_bolognese', 'spaghetti_carbonara', 'spring_rolls', 'steak', 'strawberry_shortcake', 'sushi', 'tacos', 'takoyaki', 'tiramisu', 'tuna_tartare', 'waffles']\n"
          ]
        }
      ],
      "source": [
        "class_names = sorted(os.listdir(base_dir))\n",
        "print(class_names)"
      ]
    },
    {
      "cell_type": "markdown",
      "metadata": {
        "id": "RjD2COmJVaQs"
      },
      "source": [
        "## Visualización de las imágenes\n",
        "\n",
        "A continuación vamos a visualizar una imagen aleatoria para cada clase."
      ]
    },
    {
      "cell_type": "code",
      "execution_count": null,
      "metadata": {
        "id": "RNNTyG8OA60R"
      },
      "outputs": [],
      "source": [
        "rows = 17\n",
        "cols = 6\n",
        "fig, ax = plt.subplots(rows, cols, figsize=(25,25))\n",
        "fig.suptitle(\"Imagen aleatoria de cada clase\", y=1.05, fontsize=24)\n",
        "foods_sorted = sorted(os.listdir(base_dir))\n",
        "food_id = 0\n",
        "for i in range(rows):\n",
        "  for j in range(cols):\n",
        "    try:\n",
        "      food_selected = foods_sorted[food_id]\n",
        "      food_id += 1\n",
        "    except:\n",
        "      break\n",
        "    food_selected_images = os.listdir(os.path.join(base_dir,food_selected))\n",
        "    food_selected_random = np.random.choice(food_selected_images)\n",
        "    img = plt.imread(os.path.join(base_dir,food_selected, food_selected_random))\n",
        "    ax[i][j].imshow(img)\n",
        "    ax[i][j].set_title(food_selected, pad = 10)\n",
        "\n",
        "plt.setp(ax, xticks=[],yticks=[])\n",
        "plt.tight_layout()\n"
      ]
    },
    {
      "cell_type": "markdown",
      "metadata": {
        "id": "t1oty5NvWTWy"
      },
      "source": [
        "## Entrenamiento del modelo"
      ]
    },
    {
      "cell_type": "markdown",
      "metadata": {
        "id": "kE0CN_U0WW2x"
      },
      "source": [
        "Asignamos las variables necesarias."
      ]
    },
    {
      "cell_type": "code",
      "execution_count": null,
      "metadata": {
        "id": "iTJeLnCbQszy"
      },
      "outputs": [],
      "source": [
        "img_height, img_width = 150, 150\n",
        "nb_train_samples = 80800\n",
        "nb_validation_samples = 20200\n",
        "batch_size = 8\n",
        "epoch = 100"
      ]
    },
    {
      "cell_type": "markdown",
      "metadata": {
        "id": "A_V-BESNWaon"
      },
      "source": [
        "Realizamos la generalización de datos de entrenamiento y de validación."
      ]
    },
    {
      "cell_type": "code",
      "execution_count": null,
      "metadata": {
        "id": "iT6Kjc2BQt67"
      },
      "outputs": [],
      "source": [
        "train_datagen = ImageDataGenerator(\n",
        "    rescale=1./255,\n",
        "    featurewise_center=True,\n",
        "    featurewise_std_normalization=True,\n",
        "    shear_range=0.2,\n",
        "    zoom_range=0.2,\n",
        "    horizontal_flip=True,\n",
        "    rotation_range=40,\n",
        "    brightness_range=[0.5, 1.5],\n",
        "    contrast_range=[0.8, 1.2],\n",
        "    width_shift_range=0.2,\n",
        "    height_shift_range=0.2,\n",
        "    validation_split=0.2)\n",
        "\n",
        "test_datagen = ImageDataGenerator(rescale=1./255, validation_split=0.2)"
      ]
    },
    {
      "cell_type": "code",
      "execution_count": null,
      "metadata": {
        "colab": {
          "base_uri": "https://localhost:8080/"
        },
        "id": "JxCZ_esfQwch",
        "outputId": "1ac31456-7b2f-442a-fa14-3e7712c5d3ef"
      },
      "outputs": [
        {
          "name": "stdout",
          "output_type": "stream",
          "text": [
            "Found 80800 images belonging to 101 classes.\n",
            "Found 20200 images belonging to 101 classes.\n"
          ]
        }
      ],
      "source": [
        "train_generator = train_datagen.flow_from_directory(\n",
        "    base_dir,\n",
        "    target_size=(img_height, img_width),\n",
        "    batch_size=batch_size,\n",
        "    class_mode='categorical',\n",
        "    subset = \"training\")\n",
        "\n",
        "validation_generator = test_datagen.flow_from_directory(\n",
        "    base_dir,\n",
        "    target_size=(img_height, img_width),\n",
        "    batch_size=batch_size,\n",
        "    class_mode='categorical',\n",
        "    subset = \"validation\")"
      ]
    },
    {
      "cell_type": "markdown",
      "metadata": {
        "id": "vtMTux7bW3dB"
      },
      "source": [
        "### Modelo con InceptionV3\n",
        "\n",
        "Creamos el modelo integrando InceptionV3, una capa de agrupación global para convertir la salida 3D en un vector 1D, también capas densas con activación ReLU y dropout, y por último la capa de salida con la función de activación softmax ya que es un problema de clasificación múltiple."
      ]
    },
    {
      "cell_type": "code",
      "execution_count": null,
      "metadata": {
        "id": "3bwE3HLgQxFu"
      },
      "outputs": [],
      "source": [
        "inception = InceptionV3(weights='imagenet', include_top=False, input_shape=(img_height, img_width, 3))\n",
        "\n",
        "x_inception = inception.output\n",
        "x_inception = GlobalAveragePooling2D()(x_inception)\n",
        "x_inception = Dense(128, activation='relu', kernel_regularizer=l2(0.01))(x_inception)\n",
        "x_inception = Dropout(0.2)(x_inception)\n",
        "\n",
        "predictions_inception = Dense(len(class_names), kernel_regularizer=l2(0.005), activation='softmax')(x_inception)\n",
        "model_inception = Model(inputs=inception.input, outputs=predictions_inception)"
      ]
    },
    {
      "cell_type": "markdown",
      "metadata": {
        "id": "yCwR394WW-fO"
      },
      "source": [
        "Compila el modelo utilizando el optimizador SGD con una tasa de aprendizaje baja, función de pérdida categórica y métrica de precisión."
      ]
    },
    {
      "cell_type": "code",
      "execution_count": null,
      "metadata": {
        "id": "FqB91P56Q0Et"
      },
      "outputs": [],
      "source": [
        "model_inception.compile(optimizer=Adam(learning_rate=0.001), loss='categorical_crossentropy', metrics=['accuracy'])"
      ]
    },
    {
      "cell_type": "markdown",
      "metadata": {
        "id": "e5Y0ygUqXBro"
      },
      "source": [
        "Establecemos un callback para que se vaya guardando el modelo en cada iteracción, siempre que las métricas sean mejor que la anterior."
      ]
    },
    {
      "cell_type": "code",
      "execution_count": null,
      "metadata": {
        "id": "Pd_zCGM2Q1Zu"
      },
      "outputs": [],
      "source": [
        "early_stopping_inception = EarlyStopping(monitor='val_loss', patience=10, restore_best_weights=True)\n",
        "checkpointer_inception = ModelCheckpoint(filepath='Modelos entrenados/best_model_inception.h5', verbose=1, save_best_only=True)"
      ]
    },
    {
      "cell_type": "markdown",
      "metadata": {
        "id": "NZ5N4PG6XEMN"
      },
      "source": [
        "Utiliza el conjunto de datos de entrenamiento y validación para entrenar el modelo."
      ]
    },
    {
      "cell_type": "code",
      "execution_count": null,
      "metadata": {
        "id": "A6bawSYTBcMW",
        "scrolled": true
      },
      "outputs": [],
      "source": [
        "history_inception = model_inception.fit(train_generator,\n",
        "                    steps_per_epoch = len(train_generator),\n",
        "                    validation_data = validation_generator,\n",
        "                    validation_steps = len(validation_generator),\n",
        "                    epochs = epoch,\n",
        "                    verbose = 1,\n",
        "                    callbacks = [early_stopping_inception, checkpointer_inception])\n",
        "\n",
        "model_inception.save('Modelos entrenados/model_inception_trained.h5')"
      ]
    },
    {
      "cell_type": "code",
      "execution_count": null,
      "metadata": {
        "id": "E0v_lI6-kvpl"
      },
      "outputs": [],
      "source": [
        "plot = pd.DataFrame(history_inception.history)\n",
        "\n",
        "# Gráfica de pérdida\n",
        "plt.figure(figsize=(12, 6))\n",
        "plt.subplot(1, 2, 1)\n",
        "plt.plot(plot['loss'], label='Training Loss')\n",
        "plt.plot(plot['val_loss'], label='Validation Loss')\n",
        "plt.legend()\n",
        "plt.title('InceptionV3 Training and Validation Loss')\n",
        "\n",
        "# Gráfica de accuracy\n",
        "plt.subplot(1, 2, 2)\n",
        "plt.plot(plot['accuracy'], label='Training Accuracy')\n",
        "plt.plot(plot['val_accuracy'], label='Validation Accuracy')\n",
        "plt.legend()\n",
        "plt.title('InceptionV3 Training and Validation Accuracy')\n",
        "\n",
        "# Mostrar las gráficas\n",
        "plt.show()"
      ]
    },
    {
      "cell_type": "markdown",
      "metadata": {
        "id": "aASpwLehlP9u"
      },
      "source": [
        "### Modelo con ResNet50"
      ]
    },
    {
      "cell_type": "code",
      "execution_count": null,
      "metadata": {
        "id": "46Ob97OClVbP"
      },
      "outputs": [],
      "source": [
        "resnet = ResNet50(weights='imagenet', include_top=False, input_shape=(img_height, img_width, 3))\n",
        "\n",
        "x_resnet = resnet.output\n",
        "x_resnet = GlobalAveragePooling2D()(x_resnet)\n",
        "x_resnet = Dense(128, activation='relu', kernel_regularizer=l2(0.01))(x_resnet)\n",
        "x_resnet = Dropout(0.2)(x_resnet)\n",
        "\n",
        "predictions_resnet = Dense(len(class_names),kernel_regularizer=l2(0.005), activation='softmax')(x_resnet)\n",
        "model_resnet = Model(inputs=resnet.input, outputs=predictions_resnet)"
      ]
    },
    {
      "cell_type": "code",
      "execution_count": null,
      "metadata": {
        "id": "Zcl9IvU9lSu5"
      },
      "outputs": [],
      "source": [
        "model_resnet.compile(optimizer=Adam(learning_rate=0.001), loss='categorical_crossentropy', metrics=['accuracy'])"
      ]
    },
    {
      "cell_type": "code",
      "execution_count": null,
      "metadata": {
        "id": "47VzfS14mcBH"
      },
      "outputs": [],
      "source": [
        "early_stopping_resnet = EarlyStopping(monitor='val_loss', patience=10, restore_best_weights=True)\n",
        "checkpointer_resnet = ModelCheckpoint(filepath='Modelos entrenados/best_model_resnet.h5', verbose=1, save_best_only=True)"
      ]
    },
    {
      "cell_type": "code",
      "execution_count": null,
      "metadata": {
        "id": "ZOA9y9v-mgb9"
      },
      "outputs": [],
      "source": [
        "history_resnet = model_resnet.fit(train_generator,\n",
        "                    steps_per_epoch = len(train_generator),\n",
        "                    validation_data = validation_generator,\n",
        "                    validation_steps = len(validation_generator),\n",
        "                    epochs = epoch,\n",
        "                    verbose = 1,\n",
        "                    callbacks = [early_stopping_resnet, checkpointer_resnet])\n",
        "\n",
        "model_resnet.save('Modelos entrenados/model_resnet_trained.h5')"
      ]
    },
    {
      "cell_type": "code",
      "execution_count": null,
      "metadata": {
        "id": "ZjMYPEssnZef"
      },
      "outputs": [],
      "source": [
        "plot = pd.DataFrame(history_resnet.history)\n",
        "\n",
        "# Gráfica de pérdida\n",
        "plt.figure(figsize=(12, 6))\n",
        "plt.subplot(1, 2, 1)\n",
        "plt.plot(plot['loss'], label='Training Loss')\n",
        "plt.plot(plot['val_loss'], label='Validation Loss')\n",
        "plt.legend()\n",
        "plt.title('ResNet50 Training and Validation Loss')\n",
        "\n",
        "# Gráfica de accuracy\n",
        "plt.subplot(1, 2, 2)\n",
        "plt.plot(plot['accuracy'], label='Training Accuracy')\n",
        "plt.plot(plot['val_accuracy'], label='Validation Accuracy')\n",
        "plt.legend()\n",
        "plt.title('ResNet50 Training and Validation Accuracy')\n",
        "\n",
        "# Mostrar las gráficas\n",
        "plt.show()"
      ]
    },
    {
      "cell_type": "markdown",
      "metadata": {
        "id": "xwqA1Y3jmpq0"
      },
      "source": [
        "### Modelo con DenseNet121"
      ]
    },
    {
      "cell_type": "code",
      "execution_count": null,
      "metadata": {
        "id": "I6EPfHe7mse5"
      },
      "outputs": [],
      "source": [
        "densenet = DenseNet121(weights='imagenet', include_top=False, input_shape=(img_height, img_width, 3))\n",
        "\n",
        "x_densenet = densenet.output\n",
        "x_densenet = GlobalAveragePooling2D()(x_densenet)\n",
        "x_densenet = Dense(128, activation='relu', kernel_regularizer=l2(0.01))(x_densenet)\n",
        "x_densenet = Dropout(0.2)(x_densenet)\n",
        "\n",
        "predictions_densenet = Dense(len(class_names),kernel_regularizer=l2(0.005), activation='softmax')(x_densenet)\n",
        "model_densenet = Model(inputs=densenet.input, outputs=predictions_densenet)"
      ]
    },
    {
      "cell_type": "code",
      "execution_count": null,
      "metadata": {
        "id": "1o27-YBHm8RD"
      },
      "outputs": [],
      "source": [
        "model_densenet.compile(optimizer=Adam(learning_rate=0.001), loss='categorical_crossentropy', metrics=['accuracy'])"
      ]
    },
    {
      "cell_type": "code",
      "execution_count": null,
      "metadata": {
        "id": "qD5M9bwmm99Z"
      },
      "outputs": [],
      "source": [
        "early_stopping_densenet = EarlyStopping(monitor='val_loss', patience=10, restore_best_weights=True)\n",
        "checkpointer_densenet = ModelCheckpoint(filepath='Modelos entrenados/best_model_densenet.h5', verbose=1, save_best_only=True)"
      ]
    },
    {
      "cell_type": "code",
      "execution_count": null,
      "metadata": {
        "id": "ZGaKJez_nLzL"
      },
      "outputs": [],
      "source": [
        "history_densenet = model_densenet.fit(train_generator,\n",
        "                    steps_per_epoch = len(train_generator),\n",
        "                    validation_data = validation_generator,\n",
        "                    validation_steps = len(validation_generator),\n",
        "                    epochs = epoch,\n",
        "                    verbose = 1,\n",
        "                    callbacks = [early_stopping_densenet, checkpointer_densenet])\n",
        "\n",
        "model_densenet.save('Modelos entrenados/model_densenet_trained.h5')"
      ]
    },
    {
      "cell_type": "code",
      "execution_count": null,
      "metadata": {
        "id": "F1hZR7jAnbjP"
      },
      "outputs": [],
      "source": [
        "plot = pd.DataFrame(history_densenet.history)\n",
        "\n",
        "# Gráfica de pérdida\n",
        "plt.figure(figsize=(12, 6))\n",
        "plt.subplot(1, 2, 1)\n",
        "plt.plot(plot['loss'], label='Training Loss')\n",
        "plt.plot(plot['val_loss'], label='Validation Loss')\n",
        "plt.legend()\n",
        "plt.title('DenseNet121 Training and Validation Loss')\n",
        "\n",
        "# Gráfica de accuracy\n",
        "plt.subplot(1, 2, 2)\n",
        "plt.plot(plot['accuracy'], label='Training Accuracy')\n",
        "plt.plot(plot['val_accuracy'], label='Validation Accuracy')\n",
        "plt.legend()\n",
        "plt.title('DenseNet121 Training and Validation Accuracy')\n",
        "\n",
        "# Mostrar las gráficas\n",
        "plt.show()"
      ]
    }
  ],
  "metadata": {
    "colab": {
      "gpuClass": "premium",
      "provenance": [],
      "toc_visible": true
    },
    "kernelspec": {
      "display_name": "Python 3.9.11 (tensorflow2)",
      "language": "python",
      "name": "tensorflow"
    },
    "language_info": {
      "codemirror_mode": {
        "name": "ipython",
        "version": 3
      },
      "file_extension": ".py",
      "mimetype": "text/x-python",
      "name": "python",
      "nbconvert_exporter": "python",
      "pygments_lexer": "ipython3",
      "version": "3.9.11"
    }
  },
  "nbformat": 4,
  "nbformat_minor": 0
}
