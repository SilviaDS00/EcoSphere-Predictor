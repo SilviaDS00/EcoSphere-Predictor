{
  "cells": [
    {
      "cell_type": "code",
      "execution_count": 1,
      "metadata": {
        "colab": {
          "base_uri": "https://localhost:8080/"
        },
        "id": "YoRJV7joE39b",
        "outputId": "88e3cf16-0c08-4956-f177-838c85363a04"
      },
      "outputs": [
        {
          "name": "stdout",
          "output_type": "stream",
          "text": [
            "Requirement already satisfied: googletrans==4.0.0-rc1 in c:\\users\\usuario\\appdata\\local\\programs\\python\\python312\\lib\\site-packages (4.0.0rc1)Note: you may need to restart the kernel to use updated packages.\n",
            "\n",
            "Requirement already satisfied: httpx==0.13.3 in c:\\users\\usuario\\appdata\\local\\programs\\python\\python312\\lib\\site-packages (from googletrans==4.0.0-rc1) (0.13.3)\n",
            "Requirement already satisfied: certifi in c:\\users\\usuario\\appdata\\local\\programs\\python\\python312\\lib\\site-packages (from httpx==0.13.3->googletrans==4.0.0-rc1) (2024.2.2)\n",
            "Requirement already satisfied: hstspreload in c:\\users\\usuario\\appdata\\local\\programs\\python\\python312\\lib\\site-packages (from httpx==0.13.3->googletrans==4.0.0-rc1) (2024.2.1)\n",
            "Requirement already satisfied: sniffio in c:\\users\\usuario\\appdata\\local\\programs\\python\\python312\\lib\\site-packages (from httpx==0.13.3->googletrans==4.0.0-rc1) (1.3.0)\n",
            "Requirement already satisfied: chardet==3.* in c:\\users\\usuario\\appdata\\local\\programs\\python\\python312\\lib\\site-packages (from httpx==0.13.3->googletrans==4.0.0-rc1) (3.0.4)\n",
            "Requirement already satisfied: idna==2.* in c:\\users\\usuario\\appdata\\local\\programs\\python\\python312\\lib\\site-packages (from httpx==0.13.3->googletrans==4.0.0-rc1) (2.10)\n",
            "Requirement already satisfied: rfc3986<2,>=1.3 in c:\\users\\usuario\\appdata\\local\\programs\\python\\python312\\lib\\site-packages (from httpx==0.13.3->googletrans==4.0.0-rc1) (1.5.0)\n",
            "Requirement already satisfied: httpcore==0.9.* in c:\\users\\usuario\\appdata\\local\\programs\\python\\python312\\lib\\site-packages (from httpx==0.13.3->googletrans==4.0.0-rc1) (0.9.1)\n",
            "Requirement already satisfied: h11<0.10,>=0.8 in c:\\users\\usuario\\appdata\\local\\programs\\python\\python312\\lib\\site-packages (from httpcore==0.9.*->httpx==0.13.3->googletrans==4.0.0-rc1) (0.9.0)\n",
            "Requirement already satisfied: h2==3.* in c:\\users\\usuario\\appdata\\local\\programs\\python\\python312\\lib\\site-packages (from httpcore==0.9.*->httpx==0.13.3->googletrans==4.0.0-rc1) (3.2.0)\n",
            "Requirement already satisfied: hyperframe<6,>=5.2.0 in c:\\users\\usuario\\appdata\\local\\programs\\python\\python312\\lib\\site-packages (from h2==3.*->httpcore==0.9.*->httpx==0.13.3->googletrans==4.0.0-rc1) (5.2.0)\n",
            "Requirement already satisfied: hpack<4,>=3.0 in c:\\users\\usuario\\appdata\\local\\programs\\python\\python312\\lib\\site-packages (from h2==3.*->httpcore==0.9.*->httpx==0.13.3->googletrans==4.0.0-rc1) (3.0.0)\n"
          ]
        },
        {
          "name": "stderr",
          "output_type": "stream",
          "text": [
            "\n",
            "[notice] A new release of pip is available: 23.2.1 -> 24.0\n",
            "[notice] To update, run: python.exe -m pip install --upgrade pip\n"
          ]
        }
      ],
      "source": [
        "pip install googletrans==4.0.0-rc1"
      ]
    },
    {
      "cell_type": "code",
      "execution_count": 3,
      "metadata": {
        "id": "Eb26asUKM8IZ"
      },
      "outputs": [
        {
          "name": "stdout",
          "output_type": "stream",
          "text": [
            "Hola soy tu asistente virtual, ¿qué necesitas?\n",
            "\n",
            "\n",
            "Acciones disponibles:\n",
            "1. Ver receta\n",
            "2. Ver otras recetas\n",
            "3. Ver recetas anteriores\n",
            "4. Salir\n",
            "\n",
            "\n",
            "\n",
            "\n",
            "Receta: pizza\n",
            "Ingredientes:\n",
            "- Masa para pizza\n",
            "- Salsa de tomate\n",
            "- Queso mozzarella rallado\n",
            "- Pepperoni\n",
            "Pasos:\n",
            "- Precalienta el horno a 220Â°C.\n",
            "- Extiende la masa para pizza sobre una bandeja.\n",
            "- Cubre la masa con salsa de tomate.\n",
            "- Espolvorea el queso mozzarella rallado sobre la salsa.\n",
            "- Coloca las rodajas de pepperoni sobre el queso.\n",
            "- Hornea la pizza durante 12-15 minutos, o hasta que estÃ© dorada y burbujeante.\n",
            "- Â¡Sirve caliente y disfruta tu pizza de pepperoni!\n",
            "\n",
            "\n",
            "Acciones disponibles:\n",
            "1. Ver receta\n",
            "2. Ver otras recetas\n",
            "3. Ver recetas anteriores\n",
            "4. Salir\n",
            "\n",
            "\n"
          ]
        }
      ],
      "source": [
        "import json\n",
        "from googletrans import Translator\n",
        "\n",
        "class AsistenteRecetas:\n",
        "\n",
        "    def __init__(self):\n",
        "        self.translator = Translator() #Inicializa el traductor\n",
        "        self.idioma = {'español': 'es', 'ingles': 'en'}\n",
        "        self.idioma_elegido = self.elegir_idioma()\n",
        "        self.recetas = self.carga_json()\n",
        "\n",
        "    # Selección de idioma\n",
        "    def elegir_idioma(self):\n",
        "      while True:\n",
        "        language = input(\"Seleccione el idioma (español / inglés): \").lower()\n",
        "        if language in ['español', 'inglés']:\n",
        "          return language\n",
        "        else:\n",
        "          print(\"Por favor, seleccione un idioma válido.\")\n",
        "\n",
        "    def traducir(self, text):\n",
        "        idioma_destino = self.idioma.get(self.idioma_elegido.lower()) # Obtiene el código del idioma elegido(es o en)\n",
        "        if idioma_destino:\n",
        "            traduccion = self.translator.translate(text, dest=idioma_destino) #Traduce el texto\n",
        "            return traduccion.text\n",
        "        else:\n",
        "            print(\"Error: Idioma de destino no válido.\")\n",
        "            return text  # Devolver el texto original si hay un error\n",
        "\n",
        "    def carga_json(self):\n",
        "        filename = 'recetas_es.json' if self.idioma_elegido == 'español' else 'recetas_en.json'\n",
        "        with open(filename, 'r') as archivo:\n",
        "            recetas = json.load(archivo)\n",
        "        return recetas\n",
        "\n",
        "    def ver_receta(self, nombre_receta):\n",
        "        if nombre_receta in self.recetas:\n",
        "            print(\"\\n\")\n",
        "            print(self.traducir(f'\\nReceta: {nombre_receta}')) \n",
        "\n",
        "            # Elige la clave para los ingredientes y pasos\n",
        "            ingredientes_key = 'ingredientes' if self.idioma_elegido == 'español' else 'ingredients'\n",
        "\n",
        "            if ingredientes_key in self.recetas[nombre_receta]:\n",
        "                print(self.traducir('Ingredientes:'))\n",
        "                for ingredient in self.recetas[nombre_receta][ingredientes_key]:\n",
        "                    print(f'- {ingredient}')\n",
        "            else:\n",
        "                print(self.traducir('No se encontraron ingredientes para esta receta.'))\n",
        "\n",
        "            pasos_key = 'pasos' if self.idioma_elegido == 'español' else 'steps'\n",
        "\n",
        "            if pasos_key in self.recetas[nombre_receta]:\n",
        "                print(self.traducir('Pasos:'))\n",
        "                for step in self.recetas[nombre_receta][pasos_key]:\n",
        "                    print(f'- {step}')\n",
        "            else:\n",
        "                print(self.traducir('No se encontraron pasos para esta receta.'))\n",
        "\n",
        "        else:\n",
        "            print(self.traducir('La receta especificada no existe.'))\n",
        " \n",
        "\n",
        "    # Ver las recetas disponibles\n",
        "    def otras_recetas(self):\n",
        "        print(self.traducir('\\nRecetas disponibles:'))\n",
        "        for recipe in self.recetas:\n",
        "            print(f'- {recipe}')\n",
        "        nombre_receta = input(self.traducir('Ingrese el nombre de la receta que desea ver: '))\n",
        "        self.ver_receta(nombre_receta)\n",
        "\n",
        "Bot = AsistenteRecetas()\n",
        "\n",
        "print(Bot.traducir(\"Hola soy tu asistente virtual, ¿qué necesitas?\"))\n",
        "while True:\n",
        "  print(\"\\n\")\n",
        "  print(Bot.traducir('Acciones disponibles:'))\n",
        "  print(Bot.traducir('1. Ver receta'))\n",
        "  print(Bot.traducir('2. Ver otras recetas'))\n",
        "  print(Bot.traducir('3. Salir'))\n",
        "\n",
        "  print(\"\\n\")\n",
        "  option = input(Bot.traducir('Seleccione una acción: '))\n",
        "\n",
        "  if option in [Bot.traducir('ver receta'), Bot.traducir('see recipe')]:\n",
        "    nombre_receta = input(Bot.traducir('Ingrese el nombre de la receta: '))\n",
        "    Bot.ver_receta(nombre_receta)\n",
        "  elif option in [Bot.traducir('ver otras recetas'), Bot.traducir('see other recipes')]:\n",
        "    Bot.otras_recetas()\n",
        "  elif option in [Bot.traducir('salir'), Bot.traducir('exit')]:\n",
        "    break\n",
        "  else:\n",
        "    print(Bot.traducir('Opción no válida. Inténtelo de nuevo.'))"
      ]
    }
  ],
  "metadata": {
    "colab": {
      "provenance": []
    },
    "kernelspec": {
      "display_name": "Python 3",
      "name": "python3"
    },
    "language_info": {
      "codemirror_mode": {
        "name": "ipython",
        "version": 3
      },
      "file_extension": ".py",
      "mimetype": "text/x-python",
      "name": "python",
      "nbconvert_exporter": "python",
      "pygments_lexer": "ipython3",
      "version": "3.12.0"
    }
  },
  "nbformat": 4,
  "nbformat_minor": 0
}
